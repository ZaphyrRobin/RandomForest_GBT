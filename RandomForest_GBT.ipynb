{
 "cells": [
  {
   "cell_type": "code",
   "execution_count": 1,
   "metadata": {
    "collapsed": false
   },
   "outputs": [],
   "source": [
    "#import Spark and MLlib packages\n",
    "from pyspark import SparkContext, SparkConf\n",
    "from pyspark.mllib.regression import LabeledPoint\n",
    "from pyspark.mllib.tree import RandomForest, GradientBoostedTrees\n",
    "from pyspark.mllib.util import MLUtils\n",
    "\n",
    "#import data analysis packages\n",
    "import numpy as np\n",
    "import pandas as pd\n",
    "import sklearn\n",
    "\n",
    "from pandas import Series, DataFrame\n",
    "from sklearn.cross_validation import train_test_split\n",
    "from sklearn import metrics\n",
    "from numpy import array\n",
    "\n",
    "from sklearn import tree\n",
    "from sklearn.ensemble import RandomForestClassifier\n",
    "from sklearn.ensemble import GradientBoostingClassifier\n",
    "from sklearn.externals.joblib import Memory\n",
    "from sklearn.datasets import load_svmlight_file\n",
    "\n",
    "#for sklearn decision tree pdf plotting\n",
    "from sklearn.externals.six import StringIO\n",
    "import pydot\n",
    "\n",
    "#import data visualization packages\n",
    "import matplotlib.pyplot as plt\n",
    "import seaborn as sns\n",
    "sns.set_style('whitegrid')\n",
    "%matplotlib inline\n",
    "\n",
    "#misc packages\n",
    "from __future__ import division\n",
    "from __future__ import print_function"
   ]
  },
  {
   "cell_type": "code",
   "execution_count": 2,
   "metadata": {
    "collapsed": false,
    "scrolled": true
   },
   "outputs": [],
   "source": [
    "#I.Load dataset\n",
    "mem = Memory(\"./mycache\")\n",
    "\n",
    "#using decoration to pass file to memory\n",
    "@mem.cache\n",
    "def get_data():\n",
    "    data = load_svmlight_file(\"/usr/local/spark/data/mllib/sample_libsvm_data.txt\")\n",
    "    return data[0], data[1]\n",
    "\n",
    "x, y = get_data()"
   ]
  },
  {
   "cell_type": "code",
   "execution_count": 3,
   "metadata": {
    "collapsed": false,
    "scrolled": true
   },
   "outputs": [
    {
     "name": "stdout",
     "output_type": "stream",
     "text": [
      "(70, 692) (30, 692) (70,) (30,)\n"
     ]
    }
   ],
   "source": [
    "#Have to convert to dense array to fit the model\n",
    "dense_x = x.toarray()\n",
    "\n",
    "#Split the training and testing set\n",
    "X_train, X_test, Y_train, Y_test = train_test_split(dense_x, y, test_size=0.3)\n",
    "print(X_train.shape, X_test.shape, Y_train.shape, Y_test.shape)"
   ]
  },
  {
   "cell_type": "code",
   "execution_count": 4,
   "metadata": {
    "collapsed": false
   },
   "outputs": [],
   "source": [
    "#Training the model\n",
    "RFT = RandomForestClassifier(n_estimators=3, max_depth=5).fit(X_train, Y_train)\n",
    "GBT = GradientBoostingClassifier(n_estimators=3, max_depth=5).fit(X_train, Y_train)"
   ]
  },
  {
   "cell_type": "code",
   "execution_count": 5,
   "metadata": {
    "collapsed": false
   },
   "outputs": [
    {
     "name": "stdout",
     "output_type": "stream",
     "text": [
      "Random Forest accuracy is 1.0\n",
      "Gradient Boosting accuracy is 0.866666666667\n"
     ]
    }
   ],
   "source": [
    "def cal_model_accuracy(list):\n",
    "    for i, clf in enumerate(list):\n",
    "        predicted = clf.predict(X_test)\n",
    "        expected = Y_test\n",
    "    \n",
    "        #compare results\n",
    "        accuracy = metrics.accuracy_score(expected, predicted)\n",
    "        if i==0: print(\"Random Forest accuracy is {}\".format(accuracy))\n",
    "        else:    print(\"Gradient Boosting accuracy is {}\".format(accuracy))\n",
    "\n",
    "cal_model_accuracy((RFT, GBT))"
   ]
  },
  {
   "cell_type": "code",
   "execution_count": 6,
   "metadata": {
    "collapsed": false
   },
   "outputs": [],
   "source": [
    "#IV Use MLlib\n",
    "sc = SparkContext(\"local\", \"Ensemble_Tree\")"
   ]
  },
  {
   "cell_type": "code",
   "execution_count": 7,
   "metadata": {
    "collapsed": false
   },
   "outputs": [],
   "source": [
    "data = MLUtils.loadLibSVMFile(sc, '/usr/local/spark/data/mllib/sample_libsvm_data.txt')"
   ]
  },
  {
   "cell_type": "code",
   "execution_count": 8,
   "metadata": {
    "collapsed": false
   },
   "outputs": [],
   "source": [
    "#Split the training set and test set\n",
    "(trainingData, testData) = data.randomSplit([0.7, 0.3])"
   ]
  },
  {
   "cell_type": "code",
   "execution_count": 9,
   "metadata": {
    "collapsed": false
   },
   "outputs": [],
   "source": [
    "#Training model\n",
    "RF_model = RandomForest.trainClassifier(trainingData, numClasses=2, categoricalFeaturesInfo={},\n",
    "                                        numTrees=3, featureSubsetStrategy=\"auto\", \n",
    "                                        impurity='gini', maxDepth=5, maxBins=32)\n",
    "\n",
    "GB_model = GradientBoostedTrees.trainClassifier(trainingData, categoricalFeaturesInfo={}, numIterations=3)"
   ]
  },
  {
   "cell_type": "code",
   "execution_count": 10,
   "metadata": {
    "collapsed": false
   },
   "outputs": [
    {
     "name": "stdout",
     "output_type": "stream",
     "text": [
      "PySpark RandomForest accuracy is 1.0\n",
      "PySpark GradientBoosted accuracy is 0.90625\n"
     ]
    }
   ],
   "source": [
    "#Predication\n",
    "def cal_mllib_accuracy(list):\n",
    "    for i, clf in enumerate(list):\n",
    "        #prediction with the features\n",
    "        predictions = clf.predict(testData.map(lambda x: x.features))\n",
    "        #append with lables first then features\n",
    "        labelsAndPredictions = testData.map(lambda lp: lp.label).zip(predictions)\n",
    "        \n",
    "        accuracy = labelsAndPredictions.filter(lambda (v, p): v == p).count()/testData.count()\n",
    "    \n",
    "        #compare results\n",
    "        \n",
    "        if i==0: print(\"PySpark RandomForest accuracy is {}\".format(accuracy))\n",
    "        else:    print(\"PySpark GradientBoosted accuracy is {}\".format(accuracy))\n",
    "            \n",
    "cal_mllib_accuracy((RF_model, GB_model))"
   ]
  }
 ],
 "metadata": {
  "kernelspec": {
   "display_name": "Python 2",
   "language": "python",
   "name": "python2"
  },
  "language_info": {
   "codemirror_mode": {
    "name": "ipython",
    "version": 2
   },
   "file_extension": ".py",
   "mimetype": "text/x-python",
   "name": "python",
   "nbconvert_exporter": "python",
   "pygments_lexer": "ipython2",
   "version": "2.7.9"
  }
 },
 "nbformat": 4,
 "nbformat_minor": 0
}
